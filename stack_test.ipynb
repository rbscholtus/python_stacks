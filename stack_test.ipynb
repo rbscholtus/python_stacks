{
 "cells": [
  {
   "cell_type": "code",
   "execution_count": 1,
   "id": "d70e0d71",
   "metadata": {},
   "outputs": [],
   "source": [
    "# Install with: pipenv install jupyter cython numpy\n",
    "# Author: barend.scholtus@gmail.com"
   ]
  },
  {
   "cell_type": "code",
   "execution_count": 2,
   "id": "752c6af6",
   "metadata": {},
   "outputs": [],
   "source": [
    "%load_ext Cython"
   ]
  },
  {
   "cell_type": "code",
   "execution_count": 3,
   "id": "9736ba1c",
   "metadata": {},
   "outputs": [],
   "source": [
    "import array\n",
    "import numpy as np"
   ]
  },
  {
   "cell_type": "code",
   "execution_count": 4,
   "id": "4cf8bcc7",
   "metadata": {},
   "outputs": [],
   "source": [
    "def py_stack_test(n):\n",
    "    stack = []\n",
    "    for _ in range(n):\n",
    "        stack.append(69)\n",
    "        stack.pop()"
   ]
  },
  {
   "cell_type": "code",
   "execution_count": 5,
   "id": "9ac7d562",
   "metadata": {},
   "outputs": [
    {
     "name": "stdout",
     "output_type": "stream",
     "text": [
      "222 ms ± 5.47 ms per loop (mean ± std. dev. of 7 runs, 5 loops each)\n"
     ]
    }
   ],
   "source": [
    "base = %timeit -n5 -o py_stack_test(1000000)"
   ]
  },
  {
   "cell_type": "code",
   "execution_count": 6,
   "id": "78feb0b6",
   "metadata": {},
   "outputs": [],
   "source": [
    "def py_my_stack_test(n):\n",
    "    stack = array.array('i')\n",
    "    for _ in range(n):\n",
    "        stack.append(69)\n",
    "        stack.pop()"
   ]
  },
  {
   "cell_type": "code",
   "execution_count": 7,
   "id": "c131ff14",
   "metadata": {},
   "outputs": [
    {
     "name": "stdout",
     "output_type": "stream",
     "text": [
      "118 ms ± 11.9 ms per loop (mean ± std. dev. of 7 runs, 5 loops each)\n",
      "My stack 1.88x faster\n"
     ]
    }
   ],
   "source": [
    "res = %timeit -n5 -o py_my_stack_test(1000000)\n",
    "print('My stack {:.2f}x faster'.format(base.average / res.average))"
   ]
  },
  {
   "cell_type": "code",
   "execution_count": 8,
   "id": "9cc1a5b7",
   "metadata": {},
   "outputs": [],
   "source": [
    "def np_my_stack_test(n):\n",
    "    stack = np.empty(1000, dtype=int)\n",
    "    stack_top = -1\n",
    "    for _ in range(n):\n",
    "        stack_top += 1\n",
    "        stack[stack_top] = 69\n",
    "        stack[stack_top]\n",
    "        stack_top -= 1"
   ]
  },
  {
   "cell_type": "code",
   "execution_count": 9,
   "id": "936d02bc",
   "metadata": {},
   "outputs": [
    {
     "name": "stdout",
     "output_type": "stream",
     "text": [
      "184 ms ± 13 ms per loop (mean ± std. dev. of 7 runs, 3 loops each)\n",
      "My NumPy stack 1.20x faster\n"
     ]
    }
   ],
   "source": [
    "res = %timeit -n3 -o np_my_stack_test(1000000)\n",
    "print('My NumPy stack {:.2f}x faster'.format(base.average / res.average))"
   ]
  },
  {
   "cell_type": "code",
   "execution_count": 10,
   "id": "c6565a81",
   "metadata": {},
   "outputs": [],
   "source": [
    "%%cython\n",
    "import array\n",
    "\n",
    "cdef cy_stack_test(n):\n",
    "    stack = []\n",
    "    for _ in range(n):\n",
    "        stack.append(69)\n",
    "        stack.pop()"
   ]
  },
  {
   "cell_type": "code",
   "execution_count": 11,
   "id": "66c418db",
   "metadata": {},
   "outputs": [
    {
     "name": "stdout",
     "output_type": "stream",
     "text": [
      "167 ms ± 3.32 ms per loop (mean ± std. dev. of 7 runs, 3 loops each)\n",
      "Cython stack 1.33x faster\n"
     ]
    }
   ],
   "source": [
    "res = %timeit -n3 -o cy_stack_test(1000000)\n",
    "print('Cython stack {:.2f}x faster'.format(base.average / res.average))"
   ]
  },
  {
   "cell_type": "code",
   "execution_count": 12,
   "id": "3f44a453",
   "metadata": {},
   "outputs": [],
   "source": [
    "%%cython\n",
    "\n",
    "cpdef cy_my_stack_test(n):\n",
    "    cdef int[1000] stack\n",
    "    cdef int stack_top = -1\n",
    "    for _ in range(n):\n",
    "        stack_top += 1\n",
    "        stack[stack_top] = 69\n",
    "        stack[stack_top]\n",
    "        stack_top -= 1"
   ]
  },
  {
   "cell_type": "code",
   "execution_count": 13,
   "id": "e9f5e103",
   "metadata": {},
   "outputs": [
    {
     "name": "stdout",
     "output_type": "stream",
     "text": [
      "9.61 ms ± 351 µs per loop (mean ± std. dev. of 7 runs, 3 loops each)\n",
      "My Cython stack 23.06x faster\n"
     ]
    }
   ],
   "source": [
    "res = %timeit -n3 -o cy_my_stack_test(1000000)\n",
    "print('My Cython stack {:.2f}x faster'.format(base.average / res.average))"
   ]
  }
 ],
 "metadata": {
  "kernelspec": {
   "display_name": "Python 3 (ipykernel)",
   "language": "python",
   "name": "python3"
  },
  "language_info": {
   "codemirror_mode": {
    "name": "ipython",
    "version": 3
   },
   "file_extension": ".py",
   "mimetype": "text/x-python",
   "name": "python",
   "nbconvert_exporter": "python",
   "pygments_lexer": "ipython3",
   "version": "3.9.7"
  }
 },
 "nbformat": 4,
 "nbformat_minor": 5
}
